{
  "nbformat": 4,
  "nbformat_minor": 0,
  "metadata": {
    "colab": {
      "provenance": [],
      "machine_shape": "hm"
    },
    "kernelspec": {
      "name": "python3",
      "display_name": "Python 3"
    },
    "language_info": {
      "name": "python"
    },
    "accelerator": "GPU",
    "gpuClass": "premium"
  },
  "cells": [
    {
      "cell_type": "code",
      "execution_count": 1,
      "metadata": {
        "colab": {
          "base_uri": "https://localhost:8080/"
        },
        "id": "fkfDCJt-6CZu",
        "outputId": "b2d72eab-d4da-4be2-aca3-dbc1af68fa45"
      },
      "outputs": [
        {
          "output_type": "stream",
          "name": "stdout",
          "text": [
            "Cloning into 'anly521-final-project'...\n",
            "remote: Enumerating objects: 154, done.\u001b[K\n",
            "remote: Total 154 (delta 0), reused 0 (delta 0), pack-reused 154\u001b[K\n",
            "Receiving objects: 100% (154/154), 385.91 KiB | 413.00 KiB/s, done.\n",
            "Resolving deltas: 100% (48/48), done.\n"
          ]
        }
      ],
      "source": [
        "!git clone https://github.com/kianakaslana648/anly521-final-project.git"
      ]
    },
    {
      "cell_type": "code",
      "source": [
        "!pip install -q diffusers==0.14.0 transformers xformers git+https://github.com/huggingface/accelerate.git\n",
        "!pip install -q opencv-contrib-python\n",
        "!pip install -q controlnet_aux\n",
        "!pip install supervision\n",
        "!pip install 'git+https://github.com/facebookresearch/segment-anything.git'\n",
        "!pip install opencv-python matplotlib\n",
        "!pip install python-multipart multipart\n",
        "!pip install fastapi nest-asyncio pyngrok uvicorn\n",
        "!pip install starlette\n",
        "!pip install openai"
      ],
      "metadata": {
        "colab": {
          "base_uri": "https://localhost:8080/"
        },
        "id": "8e-LhFIlOY-1",
        "outputId": "0492aa30-1b8f-4fe9-8254-f15c8de94e3e"
      },
      "execution_count": 2,
      "outputs": [
        {
          "output_type": "stream",
          "name": "stdout",
          "text": [
            "  Installing build dependencies ... \u001b[?25l\u001b[?25hdone\n",
            "  Getting requirements to build wheel ... \u001b[?25l\u001b[?25hdone\n",
            "  Preparing metadata (pyproject.toml) ... \u001b[?25l\u001b[?25hdone\n",
            "\u001b[2K     \u001b[90m━━━━━━━━━━━━━━━━━━━━━━━━━━━━━━━━━━━━━━\u001b[0m \u001b[32m737.4/737.4 kB\u001b[0m \u001b[31m37.5 MB/s\u001b[0m eta \u001b[36m0:00:00\u001b[0m\n",
            "\u001b[2K     \u001b[90m━━━━━━━━━━━━━━━━━━━━━━━━━━━━━━━━━━━━━━━━\u001b[0m \u001b[32m7.0/7.0 MB\u001b[0m \u001b[31m102.0 MB/s\u001b[0m eta \u001b[36m0:00:00\u001b[0m\n",
            "\u001b[2K     \u001b[90m━━━━━━━━━━━━━━━━━━━━━━━━━━━━━━━━━━━━━━\u001b[0m \u001b[32m108.2/108.2 MB\u001b[0m \u001b[31m16.3 MB/s\u001b[0m eta \u001b[36m0:00:00\u001b[0m\n",
            "\u001b[2K     \u001b[90m━━━━━━━━━━━━━━━━━━━━━━━━━━━━━━━━━━━━━━\u001b[0m \u001b[32m224.5/224.5 kB\u001b[0m \u001b[31m31.5 MB/s\u001b[0m eta \u001b[36m0:00:00\u001b[0m\n",
            "\u001b[2K     \u001b[90m━━━━━━━━━━━━━━━━━━━━━━━━━━━━━━━━━━━━━━━━\u001b[0m \u001b[32m7.8/7.8 MB\u001b[0m \u001b[31m92.9 MB/s\u001b[0m eta \u001b[36m0:00:00\u001b[0m\n",
            "\u001b[?25h  Building wheel for accelerate (pyproject.toml) ... \u001b[?25l\u001b[?25hdone\n",
            "\u001b[2K     \u001b[90m━━━━━━━━━━━━━━━━━━━━━━━━━━━━━━━━━━━━━━\u001b[0m \u001b[32m122.9/122.9 kB\u001b[0m \u001b[31m15.2 MB/s\u001b[0m eta \u001b[36m0:00:00\u001b[0m\n",
            "\u001b[2K     \u001b[90m━━━━━━━━━━━━━━━━━━━━━━━━━━━━━━━━━━━━━━━━\u001b[0m \u001b[32m42.2/42.2 kB\u001b[0m \u001b[31m5.8 MB/s\u001b[0m eta \u001b[36m0:00:00\u001b[0m\n",
            "\u001b[2K     \u001b[90m━━━━━━━━━━━━━━━━━━━━━━━━━━━━━━━━━━━━━━\u001b[0m \u001b[32m549.1/549.1 kB\u001b[0m \u001b[31m51.8 MB/s\u001b[0m eta \u001b[36m0:00:00\u001b[0m\n",
            "\u001b[?25hLooking in indexes: https://pypi.org/simple, https://us-python.pkg.dev/colab-wheels/public/simple/\n",
            "Collecting supervision\n",
            "  Downloading supervision-0.6.0-py3-none-any.whl (31 kB)\n",
            "Requirement already satisfied: numpy>=1.20.0 in /usr/local/lib/python3.10/dist-packages (from supervision) (1.22.4)\n",
            "Requirement already satisfied: opencv-python in /usr/local/lib/python3.10/dist-packages (from supervision) (4.7.0.72)\n",
            "Requirement already satisfied: matplotlib in /usr/local/lib/python3.10/dist-packages (from supervision) (3.7.1)\n",
            "Requirement already satisfied: contourpy>=1.0.1 in /usr/local/lib/python3.10/dist-packages (from matplotlib->supervision) (1.0.7)\n",
            "Requirement already satisfied: cycler>=0.10 in /usr/local/lib/python3.10/dist-packages (from matplotlib->supervision) (0.11.0)\n",
            "Requirement already satisfied: fonttools>=4.22.0 in /usr/local/lib/python3.10/dist-packages (from matplotlib->supervision) (4.39.3)\n",
            "Requirement already satisfied: kiwisolver>=1.0.1 in /usr/local/lib/python3.10/dist-packages (from matplotlib->supervision) (1.4.4)\n",
            "Requirement already satisfied: packaging>=20.0 in /usr/local/lib/python3.10/dist-packages (from matplotlib->supervision) (23.1)\n",
            "Requirement already satisfied: pillow>=6.2.0 in /usr/local/lib/python3.10/dist-packages (from matplotlib->supervision) (8.4.0)\n",
            "Requirement already satisfied: pyparsing>=2.3.1 in /usr/local/lib/python3.10/dist-packages (from matplotlib->supervision) (3.0.9)\n",
            "Requirement already satisfied: python-dateutil>=2.7 in /usr/local/lib/python3.10/dist-packages (from matplotlib->supervision) (2.8.2)\n",
            "Requirement already satisfied: six>=1.5 in /usr/local/lib/python3.10/dist-packages (from python-dateutil>=2.7->matplotlib->supervision) (1.16.0)\n",
            "Installing collected packages: supervision\n",
            "Successfully installed supervision-0.6.0\n",
            "Looking in indexes: https://pypi.org/simple, https://us-python.pkg.dev/colab-wheels/public/simple/\n",
            "Collecting git+https://github.com/facebookresearch/segment-anything.git\n",
            "  Cloning https://github.com/facebookresearch/segment-anything.git to /tmp/pip-req-build-mmwhlhcm\n",
            "  Running command git clone --filter=blob:none --quiet https://github.com/facebookresearch/segment-anything.git /tmp/pip-req-build-mmwhlhcm\n",
            "  Resolved https://github.com/facebookresearch/segment-anything.git to commit 567662b0fd33ca4b022d94d3b8de896628cd32dd\n",
            "  Preparing metadata (setup.py) ... \u001b[?25l\u001b[?25hdone\n",
            "Building wheels for collected packages: segment-anything\n",
            "  Building wheel for segment-anything (setup.py) ... \u001b[?25l\u001b[?25hdone\n",
            "  Created wheel for segment-anything: filename=segment_anything-1.0-py3-none-any.whl size=36610 sha256=96b4c2a40dc2225302fbcb2e64371ac00cf3fda178b44f254dd5320b89451b9b\n",
            "  Stored in directory: /tmp/pip-ephem-wheel-cache-_mz717_6/wheels/10/cf/59/9ccb2f0a1bcc81d4fbd0e501680b5d088d690c6cfbc02dc99d\n",
            "Successfully built segment-anything\n",
            "Installing collected packages: segment-anything\n",
            "Successfully installed segment-anything-1.0\n",
            "Looking in indexes: https://pypi.org/simple, https://us-python.pkg.dev/colab-wheels/public/simple/\n",
            "Requirement already satisfied: opencv-python in /usr/local/lib/python3.10/dist-packages (4.7.0.72)\n",
            "Requirement already satisfied: matplotlib in /usr/local/lib/python3.10/dist-packages (3.7.1)\n",
            "Requirement already satisfied: numpy>=1.21.2 in /usr/local/lib/python3.10/dist-packages (from opencv-python) (1.22.4)\n",
            "Requirement already satisfied: contourpy>=1.0.1 in /usr/local/lib/python3.10/dist-packages (from matplotlib) (1.0.7)\n",
            "Requirement already satisfied: cycler>=0.10 in /usr/local/lib/python3.10/dist-packages (from matplotlib) (0.11.0)\n",
            "Requirement already satisfied: fonttools>=4.22.0 in /usr/local/lib/python3.10/dist-packages (from matplotlib) (4.39.3)\n",
            "Requirement already satisfied: kiwisolver>=1.0.1 in /usr/local/lib/python3.10/dist-packages (from matplotlib) (1.4.4)\n",
            "Requirement already satisfied: packaging>=20.0 in /usr/local/lib/python3.10/dist-packages (from matplotlib) (23.1)\n",
            "Requirement already satisfied: pillow>=6.2.0 in /usr/local/lib/python3.10/dist-packages (from matplotlib) (8.4.0)\n",
            "Requirement already satisfied: pyparsing>=2.3.1 in /usr/local/lib/python3.10/dist-packages (from matplotlib) (3.0.9)\n",
            "Requirement already satisfied: python-dateutil>=2.7 in /usr/local/lib/python3.10/dist-packages (from matplotlib) (2.8.2)\n",
            "Requirement already satisfied: six>=1.5 in /usr/local/lib/python3.10/dist-packages (from python-dateutil>=2.7->matplotlib) (1.16.0)\n",
            "Looking in indexes: https://pypi.org/simple, https://us-python.pkg.dev/colab-wheels/public/simple/\n",
            "Collecting python-multipart\n",
            "  Downloading python_multipart-0.0.6-py3-none-any.whl (45 kB)\n",
            "\u001b[2K     \u001b[90m━━━━━━━━━━━━━━━━━━━━━━━━━━━━━━━━━━━━━━━━\u001b[0m \u001b[32m45.7/45.7 kB\u001b[0m \u001b[31m6.4 MB/s\u001b[0m eta \u001b[36m0:00:00\u001b[0m\n",
            "\u001b[?25hCollecting multipart\n",
            "  Downloading multipart-0.2.4-py3-none-any.whl (7.4 kB)\n",
            "Installing collected packages: multipart, python-multipart\n",
            "Successfully installed multipart-0.2.4 python-multipart-0.0.6\n",
            "Looking in indexes: https://pypi.org/simple, https://us-python.pkg.dev/colab-wheels/public/simple/\n",
            "Collecting fastapi\n",
            "  Downloading fastapi-0.95.1-py3-none-any.whl (56 kB)\n",
            "\u001b[2K     \u001b[90m━━━━━━━━━━━━━━━━━━━━━━━━━━━━━━━━━━━━━━━━\u001b[0m \u001b[32m57.0/57.0 kB\u001b[0m \u001b[31m7.4 MB/s\u001b[0m eta \u001b[36m0:00:00\u001b[0m\n",
            "\u001b[?25hRequirement already satisfied: nest-asyncio in /usr/local/lib/python3.10/dist-packages (1.5.6)\n",
            "Collecting pyngrok\n",
            "  Downloading pyngrok-6.0.0.tar.gz (681 kB)\n",
            "\u001b[2K     \u001b[90m━━━━━━━━━━━━━━━━━━━━━━━━━━━━━━━━━━━━━━\u001b[0m \u001b[32m681.2/681.2 kB\u001b[0m \u001b[31m47.1 MB/s\u001b[0m eta \u001b[36m0:00:00\u001b[0m\n",
            "\u001b[?25h  Preparing metadata (setup.py) ... \u001b[?25l\u001b[?25hdone\n",
            "Collecting uvicorn\n",
            "  Downloading uvicorn-0.22.0-py3-none-any.whl (58 kB)\n",
            "\u001b[2K     \u001b[90m━━━━━━━━━━━━━━━━━━━━━━━━━━━━━━━━━━━━━━━━\u001b[0m \u001b[32m58.3/58.3 kB\u001b[0m \u001b[31m9.7 MB/s\u001b[0m eta \u001b[36m0:00:00\u001b[0m\n",
            "\u001b[?25hRequirement already satisfied: pydantic!=1.7,!=1.7.1,!=1.7.2,!=1.7.3,!=1.8,!=1.8.1,<2.0.0,>=1.6.2 in /usr/local/lib/python3.10/dist-packages (from fastapi) (1.10.7)\n",
            "Collecting starlette<0.27.0,>=0.26.1 (from fastapi)\n",
            "  Downloading starlette-0.26.1-py3-none-any.whl (66 kB)\n",
            "\u001b[2K     \u001b[90m━━━━━━━━━━━━━━━━━━━━━━━━━━━━━━━━━━━━━━━━\u001b[0m \u001b[32m66.9/66.9 kB\u001b[0m \u001b[31m11.1 MB/s\u001b[0m eta \u001b[36m0:00:00\u001b[0m\n",
            "\u001b[?25hRequirement already satisfied: PyYAML in /usr/local/lib/python3.10/dist-packages (from pyngrok) (6.0)\n",
            "Requirement already satisfied: click>=7.0 in /usr/local/lib/python3.10/dist-packages (from uvicorn) (8.1.3)\n",
            "Collecting h11>=0.8 (from uvicorn)\n",
            "  Downloading h11-0.14.0-py3-none-any.whl (58 kB)\n",
            "\u001b[2K     \u001b[90m━━━━━━━━━━━━━━━━━━━━━━━━━━━━━━━━━━━━━━━━\u001b[0m \u001b[32m58.3/58.3 kB\u001b[0m \u001b[31m10.3 MB/s\u001b[0m eta \u001b[36m0:00:00\u001b[0m\n",
            "\u001b[?25hRequirement already satisfied: typing-extensions>=4.2.0 in /usr/local/lib/python3.10/dist-packages (from pydantic!=1.7,!=1.7.1,!=1.7.2,!=1.7.3,!=1.8,!=1.8.1,<2.0.0,>=1.6.2->fastapi) (4.5.0)\n",
            "Requirement already satisfied: anyio<5,>=3.4.0 in /usr/local/lib/python3.10/dist-packages (from starlette<0.27.0,>=0.26.1->fastapi) (3.6.2)\n",
            "Requirement already satisfied: idna>=2.8 in /usr/local/lib/python3.10/dist-packages (from anyio<5,>=3.4.0->starlette<0.27.0,>=0.26.1->fastapi) (3.4)\n",
            "Requirement already satisfied: sniffio>=1.1 in /usr/local/lib/python3.10/dist-packages (from anyio<5,>=3.4.0->starlette<0.27.0,>=0.26.1->fastapi) (1.3.0)\n",
            "Building wheels for collected packages: pyngrok\n",
            "  Building wheel for pyngrok (setup.py) ... \u001b[?25l\u001b[?25hdone\n",
            "  Created wheel for pyngrok: filename=pyngrok-6.0.0-py3-none-any.whl size=19879 sha256=e8654918b096179f648d09bfcb7ab51662e9b2fe080eba55af3caadf3d4acb72\n",
            "  Stored in directory: /root/.cache/pip/wheels/5c/42/78/0c3d438d7f5730451a25f7ac6cbf4391759d22a67576ed7c2c\n",
            "Successfully built pyngrok\n",
            "Installing collected packages: pyngrok, h11, uvicorn, starlette, fastapi\n",
            "Successfully installed fastapi-0.95.1 h11-0.14.0 pyngrok-6.0.0 starlette-0.26.1 uvicorn-0.22.0\n",
            "Looking in indexes: https://pypi.org/simple, https://us-python.pkg.dev/colab-wheels/public/simple/\n",
            "Requirement already satisfied: starlette in /usr/local/lib/python3.10/dist-packages (0.26.1)\n",
            "Requirement already satisfied: anyio<5,>=3.4.0 in /usr/local/lib/python3.10/dist-packages (from starlette) (3.6.2)\n",
            "Requirement already satisfied: idna>=2.8 in /usr/local/lib/python3.10/dist-packages (from anyio<5,>=3.4.0->starlette) (3.4)\n",
            "Requirement already satisfied: sniffio>=1.1 in /usr/local/lib/python3.10/dist-packages (from anyio<5,>=3.4.0->starlette) (1.3.0)\n",
            "Looking in indexes: https://pypi.org/simple, https://us-python.pkg.dev/colab-wheels/public/simple/\n",
            "Collecting openai\n",
            "  Downloading openai-0.27.6-py3-none-any.whl (71 kB)\n",
            "\u001b[2K     \u001b[90m━━━━━━━━━━━━━━━━━━━━━━━━━━━━━━━━━━━━━━━━\u001b[0m \u001b[32m71.9/71.9 kB\u001b[0m \u001b[31m9.1 MB/s\u001b[0m eta \u001b[36m0:00:00\u001b[0m\n",
            "\u001b[?25hRequirement already satisfied: requests>=2.20 in /usr/local/lib/python3.10/dist-packages (from openai) (2.27.1)\n",
            "Requirement already satisfied: tqdm in /usr/local/lib/python3.10/dist-packages (from openai) (4.65.0)\n",
            "Collecting aiohttp (from openai)\n",
            "  Downloading aiohttp-3.8.4-cp310-cp310-manylinux_2_17_x86_64.manylinux2014_x86_64.whl (1.0 MB)\n",
            "\u001b[2K     \u001b[90m━━━━━━━━━━━━━━━━━━━━━━━━━━━━━━━━━━━━━━━━\u001b[0m \u001b[32m1.0/1.0 MB\u001b[0m \u001b[31m58.2 MB/s\u001b[0m eta \u001b[36m0:00:00\u001b[0m\n",
            "\u001b[?25hRequirement already satisfied: urllib3<1.27,>=1.21.1 in /usr/local/lib/python3.10/dist-packages (from requests>=2.20->openai) (1.26.15)\n",
            "Requirement already satisfied: certifi>=2017.4.17 in /usr/local/lib/python3.10/dist-packages (from requests>=2.20->openai) (2022.12.7)\n",
            "Requirement already satisfied: charset-normalizer~=2.0.0 in /usr/local/lib/python3.10/dist-packages (from requests>=2.20->openai) (2.0.12)\n",
            "Requirement already satisfied: idna<4,>=2.5 in /usr/local/lib/python3.10/dist-packages (from requests>=2.20->openai) (3.4)\n",
            "Requirement already satisfied: attrs>=17.3.0 in /usr/local/lib/python3.10/dist-packages (from aiohttp->openai) (23.1.0)\n",
            "Collecting multidict<7.0,>=4.5 (from aiohttp->openai)\n",
            "  Downloading multidict-6.0.4-cp310-cp310-manylinux_2_17_x86_64.manylinux2014_x86_64.whl (114 kB)\n",
            "\u001b[2K     \u001b[90m━━━━━━━━━━━━━━━━━━━━━━━━━━━━━━━━━━━━━━\u001b[0m \u001b[32m114.5/114.5 kB\u001b[0m \u001b[31m17.8 MB/s\u001b[0m eta \u001b[36m0:00:00\u001b[0m\n",
            "\u001b[?25hCollecting async-timeout<5.0,>=4.0.0a3 (from aiohttp->openai)\n",
            "  Downloading async_timeout-4.0.2-py3-none-any.whl (5.8 kB)\n",
            "Collecting yarl<2.0,>=1.0 (from aiohttp->openai)\n",
            "  Downloading yarl-1.9.2-cp310-cp310-manylinux_2_17_x86_64.manylinux2014_x86_64.whl (268 kB)\n",
            "\u001b[2K     \u001b[90m━━━━━━━━━━━━━━━━━━━━━━━━━━━━━━━━━━━━━━\u001b[0m \u001b[32m268.8/268.8 kB\u001b[0m \u001b[31m36.1 MB/s\u001b[0m eta \u001b[36m0:00:00\u001b[0m\n",
            "\u001b[?25hCollecting frozenlist>=1.1.1 (from aiohttp->openai)\n",
            "  Downloading frozenlist-1.3.3-cp310-cp310-manylinux_2_5_x86_64.manylinux1_x86_64.manylinux_2_17_x86_64.manylinux2014_x86_64.whl (149 kB)\n",
            "\u001b[2K     \u001b[90m━━━━━━━━━━━━━━━━━━━━━━━━━━━━━━━━━━━━━━\u001b[0m \u001b[32m149.6/149.6 kB\u001b[0m \u001b[31m20.4 MB/s\u001b[0m eta \u001b[36m0:00:00\u001b[0m\n",
            "\u001b[?25hCollecting aiosignal>=1.1.2 (from aiohttp->openai)\n",
            "  Downloading aiosignal-1.3.1-py3-none-any.whl (7.6 kB)\n",
            "Installing collected packages: multidict, frozenlist, async-timeout, yarl, aiosignal, aiohttp, openai\n",
            "Successfully installed aiohttp-3.8.4 aiosignal-1.3.1 async-timeout-4.0.2 frozenlist-1.3.3 multidict-6.0.4 openai-0.27.6 yarl-1.9.2\n"
          ]
        }
      ]
    },
    {
      "cell_type": "code",
      "source": [
        "%cd anly521-final-project/\n",
        "!mkdir ./tmp"
      ],
      "metadata": {
        "colab": {
          "base_uri": "https://localhost:8080/"
        },
        "id": "k_q2ZAyWK2aQ",
        "outputId": "b2cec280-a7b0-4c30-b207-66601e880a66"
      },
      "execution_count": 3,
      "outputs": [
        {
          "output_type": "stream",
          "name": "stdout",
          "text": [
            "/content/anly521-final-project\n"
          ]
        }
      ]
    },
    {
      "cell_type": "code",
      "source": [
        "from google.colab.output import eval_js\n",
        "print(eval_js(\"google.colab.kernel.proxyPort(8000)\"))"
      ],
      "metadata": {
        "id": "AZdbXxZwHnhu"
      },
      "execution_count": 4,
      "outputs": []
    },
    {
      "cell_type": "code",
      "source": [
        "### VScode tunnel if you want to make code changes from vscode\n",
        "# !wget \"https://code.visualstudio.com/sha/download?build=stable&os=cli-alpine-x64\"\n",
        "# !mv \"download?build=stable&os=cli-alpine-x64\" vscode-cli\n",
        "# !tar zxf vscode-cli\n",
        "# !chmod +x ./code\n",
        "# !./code tunnel"
      ],
      "metadata": {
        "id": "cxgGW1D1Mwm-"
      },
      "execution_count": 6,
      "outputs": []
    },
    {
      "cell_type": "code",
      "source": [
        "!uvicorn main:app --reload"
      ],
      "metadata": {
        "id": "Ax2xUhHlBWfa",
        "colab": {
          "base_uri": "https://localhost:8080/"
        },
        "outputId": "a466a09e-b37a-453d-b56a-dc466d94b367"
      },
      "execution_count": null,
      "outputs": [
        {
          "output_type": "stream",
          "name": "stdout",
          "text": [
            "\u001b[32mINFO\u001b[0m:     Will watch for changes in these directories: ['/content/anly521-final-project']\n",
            "\u001b[32mINFO\u001b[0m:     Uvicorn running on \u001b[1mhttp://127.0.0.1:8000\u001b[0m (Press CTRL+C to quit)\n",
            "\u001b[32mINFO\u001b[0m:     Started reloader process [\u001b[36m\u001b[1m7900\u001b[0m] using \u001b[36m\u001b[1mStatReload\u001b[0m\n",
            "2023-04-27 14:00:27.919531: W tensorflow/compiler/tf2tensorrt/utils/py_utils.cc:38] TF-TRT Warning: Could not find TensorRT\n",
            "\u001b[32mINFO\u001b[0m:     Started server process [\u001b[36m7902\u001b[0m]\n",
            "\u001b[32mINFO\u001b[0m:     Waiting for application startup.\n",
            "\u001b[32mINFO\u001b[0m:     Application startup complete.\n",
            "\u001b[32mINFO\u001b[0m:     127.0.0.1:48260 - \"\u001b[1mGET /index.html HTTP/1.1\u001b[0m\" \u001b[32m200 OK\u001b[0m\n",
            "\u001b[32mINFO\u001b[0m:     127.0.0.1:48272 - \"\u001b[1mGET /send_params.js HTTP/1.1\u001b[0m\" \u001b[32m200 OK\u001b[0m\n",
            "\u001b[32mINFO\u001b[0m:     127.0.0.1:48278 - \"\u001b[1mGET /ui/imgs/1x/Asset12.png HTTP/1.1\u001b[0m\" \u001b[32m200 OK\u001b[0m\n",
            "\u001b[32mINFO\u001b[0m:     127.0.0.1:48282 - \"\u001b[1mGET /imgs/Refresh_icon.png HTTP/1.1\u001b[0m\" \u001b[32m200 OK\u001b[0m\n",
            "\u001b[32mINFO\u001b[0m:     127.0.0.1:48298 - \"\u001b[1mGET /style.css HTTP/1.1\u001b[0m\" \u001b[32m200 OK\u001b[0m\n",
            "\u001b[32mINFO\u001b[0m:     127.0.0.1:48300 - \"\u001b[1mGET /ui/imgs/1x/Asset17.png HTTP/1.1\u001b[0m\" \u001b[32m200 OK\u001b[0m\n",
            "\u001b[32mINFO\u001b[0m:     127.0.0.1:48312 - \"\u001b[1mGET /index.js HTTP/1.1\u001b[0m\" \u001b[32m200 OK\u001b[0m\n",
            "\u001b[32mINFO\u001b[0m:     127.0.0.1:48328 - \"\u001b[1mGET /ui/imgs/1x/Asset11.png HTTP/1.1\u001b[0m\" \u001b[32m200 OK\u001b[0m\n",
            "\u001b[32mINFO\u001b[0m:     127.0.0.1:48340 - \"\u001b[1mGET /ui/imgs/1x/Asset292.png HTTP/1.1\u001b[0m\" \u001b[32m200 OK\u001b[0m\n",
            "\u001b[32mINFO\u001b[0m:     127.0.0.1:48342 - \"\u001b[1mGET /ui/imgs/1x/Asset10.png HTTP/1.1\u001b[0m\" \u001b[32m200 OK\u001b[0m\n",
            "\u001b[32mINFO\u001b[0m:     127.0.0.1:48350 - \"\u001b[1mGET /imgs/no-image.jpg HTTP/1.1\u001b[0m\" \u001b[32m200 OK\u001b[0m\n",
            "\u001b[32mINFO\u001b[0m:     127.0.0.1:35520 - \"\u001b[1mGET /refresh/ HTTP/1.1\u001b[0m\" \u001b[32m200 OK\u001b[0m\n",
            "\u001b[32mINFO\u001b[0m:     127.0.0.1:34002 - \"\u001b[1mPOST /model_selection/ HTTP/1.1\u001b[0m\" \u001b[32m200 OK\u001b[0m\n",
            "\u001b[32mINFO\u001b[0m:     127.0.0.1:34016 - \"\u001b[1mGET /state/ HTTP/1.1\u001b[0m\" \u001b[32m200 OK\u001b[0m\n",
            "\u001b[32mINFO\u001b[0m:     127.0.0.1:44120 - \"\u001b[1mGET /state/ HTTP/1.1\u001b[0m\" \u001b[32m200 OK\u001b[0m\n",
            "\u001b[32mINFO\u001b[0m:     127.0.0.1:44126 - \"\u001b[1mGET /state/ HTTP/1.1\u001b[0m\" \u001b[32m200 OK\u001b[0m\n",
            "\u001b[32mINFO\u001b[0m:     127.0.0.1:44140 - \"\u001b[1mGET /state/ HTTP/1.1\u001b[0m\" \u001b[32m200 OK\u001b[0m\n",
            "\u001b[32mINFO\u001b[0m:     127.0.0.1:44152 - \"\u001b[1mGET /state/ HTTP/1.1\u001b[0m\" \u001b[32m200 OK\u001b[0m\n",
            "/usr/local/lib/python3.9/dist-packages/transformers/models/clip/feature_extraction_clip.py:28: FutureWarning: The class CLIPFeatureExtractor is deprecated and will be removed in version 5 of Transformers. Please use CLIPImageProcessor instead.\n",
            "  warnings.warn(\n",
            "\u001b[32mINFO\u001b[0m:     127.0.0.1:50784 - \"\u001b[1mGET /state/ HTTP/1.1\u001b[0m\" \u001b[32m200 OK\u001b[0m\n",
            "\u001b[32mINFO\u001b[0m:     127.0.0.1:50786 - \"\u001b[1mGET /state/ HTTP/1.1\u001b[0m\" \u001b[32m200 OK\u001b[0m\n",
            "\u001b[32mINFO\u001b[0m:     127.0.0.1:50798 - \"\u001b[1mGET /state/ HTTP/1.1\u001b[0m\" \u001b[32m200 OK\u001b[0m\n",
            "\u001b[32mINFO\u001b[0m:     127.0.0.1:50812 - \"\u001b[1mGET /state/ HTTP/1.1\u001b[0m\" \u001b[32m200 OK\u001b[0m\n",
            "\u001b[32mINFO\u001b[0m:     127.0.0.1:37420 - \"\u001b[1mGET /state/ HTTP/1.1\u001b[0m\" \u001b[32m200 OK\u001b[0m\n",
            "\u001b[32mINFO\u001b[0m:     127.0.0.1:37428 - \"\u001b[1mGET /state/ HTTP/1.1\u001b[0m\" \u001b[32m200 OK\u001b[0m\n",
            "\u001b[32mINFO\u001b[0m:     127.0.0.1:37434 - \"\u001b[1mGET /state/ HTTP/1.1\u001b[0m\" \u001b[32m200 OK\u001b[0m\n",
            "\u001b[32mINFO\u001b[0m:     127.0.0.1:46722 - \"\u001b[1mGET /state/ HTTP/1.1\u001b[0m\" \u001b[32m200 OK\u001b[0m\n",
            "\u001b[32mINFO\u001b[0m:     127.0.0.1:46728 - \"\u001b[1mGET /state/ HTTP/1.1\u001b[0m\" \u001b[32m200 OK\u001b[0m\n",
            "\u001b[32mINFO\u001b[0m:     127.0.0.1:46740 - \"\u001b[1mGET /state/ HTTP/1.1\u001b[0m\" \u001b[32m200 OK\u001b[0m\n",
            "The config attributes {'addition_embed_type': None, 'addition_embed_type_num_heads': 64, 'class_embeddings_concat': False, 'cross_attention_norm': None, 'encoder_hid_dim': None, 'mid_block_only_cross_attention': None, 'resnet_out_scale_factor': 1.0, 'resnet_skip_time_act': False, 'time_embedding_act_fn': None, 'time_embedding_dim': None} were passed to UNet2DConditionModel, but are not expected and will be ignored. Please verify your config.json configuration file.\n",
            "\u001b[32mINFO\u001b[0m:     127.0.0.1:46750 - \"\u001b[1mGET /state/ HTTP/1.1\u001b[0m\" \u001b[32m200 OK\u001b[0m\n",
            "\u001b[32mINFO\u001b[0m:     127.0.0.1:46758 - \"\u001b[1mGET /state/ HTTP/1.1\u001b[0m\" \u001b[32m200 OK\u001b[0m\n",
            "\u001b[32mINFO\u001b[0m:     127.0.0.1:57862 - \"\u001b[1mGET /state/ HTTP/1.1\u001b[0m\" \u001b[32m200 OK\u001b[0m\n",
            "\u001b[32mINFO\u001b[0m:     127.0.0.1:57872 - \"\u001b[1mGET /state/ HTTP/1.1\u001b[0m\" \u001b[32m200 OK\u001b[0m\n",
            "\u001b[32mINFO\u001b[0m:     127.0.0.1:57884 - \"\u001b[1mGET /state/ HTTP/1.1\u001b[0m\" \u001b[32m200 OK\u001b[0m\n",
            "\u001b[32mINFO\u001b[0m:     127.0.0.1:46188 - \"\u001b[1mGET /state/ HTTP/1.1\u001b[0m\" \u001b[32m200 OK\u001b[0m\n",
            "\u001b[32mINFO\u001b[0m:     127.0.0.1:46202 - \"\u001b[1mGET /state/ HTTP/1.1\u001b[0m\" \u001b[32m200 OK\u001b[0m\n",
            "\u001b[32mINFO\u001b[0m:     127.0.0.1:46204 - \"\u001b[1mGET /state/ HTTP/1.1\u001b[0m\" \u001b[32m200 OK\u001b[0m\n",
            "\u001b[32mINFO\u001b[0m:     127.0.0.1:46212 - \"\u001b[1mGET /state/ HTTP/1.1\u001b[0m\" \u001b[32m200 OK\u001b[0m\n",
            "\u001b[32mINFO\u001b[0m:     127.0.0.1:34854 - \"\u001b[1mGET /state/ HTTP/1.1\u001b[0m\" \u001b[32m200 OK\u001b[0m\n",
            "\u001b[32mINFO\u001b[0m:     127.0.0.1:34866 - \"\u001b[1mGET /state/ HTTP/1.1\u001b[0m\" \u001b[32m200 OK\u001b[0m\n",
            "\u001b[32mINFO\u001b[0m:     127.0.0.1:34880 - \"\u001b[1mGET /state/ HTTP/1.1\u001b[0m\" \u001b[32m200 OK\u001b[0m\n",
            "\u001b[32mINFO\u001b[0m:     127.0.0.1:34884 - \"\u001b[1mGET /state/ HTTP/1.1\u001b[0m\" \u001b[32m200 OK\u001b[0m\n",
            "\u001b[32mINFO\u001b[0m:     127.0.0.1:41388 - \"\u001b[1mGET /state/ HTTP/1.1\u001b[0m\" \u001b[32m200 OK\u001b[0m\n",
            "\u001b[32mINFO\u001b[0m:     127.0.0.1:41398 - \"\u001b[1mGET /state/ HTTP/1.1\u001b[0m\" \u001b[32m200 OK\u001b[0m\n",
            "\u001b[32mINFO\u001b[0m:     127.0.0.1:41412 - \"\u001b[1mGET /state/ HTTP/1.1\u001b[0m\" \u001b[32m200 OK\u001b[0m\n",
            "\u001b[32mINFO\u001b[0m:     127.0.0.1:41418 - \"\u001b[1mGET /state/ HTTP/1.1\u001b[0m\" \u001b[32m200 OK\u001b[0m\n",
            "\u001b[32mINFO\u001b[0m:     127.0.0.1:43322 - \"\u001b[1mGET /state/ HTTP/1.1\u001b[0m\" \u001b[32m200 OK\u001b[0m\n",
            "\u001b[32mINFO\u001b[0m:     127.0.0.1:43326 - \"\u001b[1mGET /state/ HTTP/1.1\u001b[0m\" \u001b[32m200 OK\u001b[0m\n",
            "\u001b[32mINFO\u001b[0m:     127.0.0.1:43334 - \"\u001b[1mGET /state/ HTTP/1.1\u001b[0m\" \u001b[32m200 OK\u001b[0m\n",
            "\u001b[32mINFO\u001b[0m:     127.0.0.1:33168 - \"\u001b[1mGET /state/ HTTP/1.1\u001b[0m\" \u001b[32m200 OK\u001b[0m\n",
            "\u001b[32mINFO\u001b[0m:     127.0.0.1:33174 - \"\u001b[1mGET /state/ HTTP/1.1\u001b[0m\" \u001b[32m200 OK\u001b[0m\n",
            "\u001b[32mINFO\u001b[0m:     127.0.0.1:33178 - \"\u001b[1mGET /state/ HTTP/1.1\u001b[0m\" \u001b[32m200 OK\u001b[0m\n",
            "\u001b[32mINFO\u001b[0m:     127.0.0.1:33188 - \"\u001b[1mGET /state/ HTTP/1.1\u001b[0m\" \u001b[32m200 OK\u001b[0m\n",
            "\u001b[32mINFO\u001b[0m:     127.0.0.1:52828 - \"\u001b[1mGET /state/ HTTP/1.1\u001b[0m\" \u001b[32m200 OK\u001b[0m\n",
            "\u001b[32mINFO\u001b[0m:     127.0.0.1:52844 - \"\u001b[1mGET /state/ HTTP/1.1\u001b[0m\" \u001b[32m200 OK\u001b[0m\n",
            "\u001b[32mINFO\u001b[0m:     127.0.0.1:52858 - \"\u001b[1mGET /state/ HTTP/1.1\u001b[0m\" \u001b[32m200 OK\u001b[0m\n",
            "Downloading (…)id-midas-501f0c75.pt:   0% 0.00/493M [00:00<?, ?B/s]\u001b[32mINFO\u001b[0m:     127.0.0.1:52862 - \"\u001b[1mGET /state/ HTTP/1.1\u001b[0m\" \u001b[32m200 OK\u001b[0m\n",
            "Downloading (…)id-midas-501f0c75.pt:   4% 21.0M/493M [00:03<01:01, 7.66MB/s]\u001b[32mINFO\u001b[0m:     127.0.0.1:34936 - \"\u001b[1mGET /state/ HTTP/1.1\u001b[0m\" \u001b[32m200 OK\u001b[0m\n",
            "Downloading (…)id-midas-501f0c75.pt:  13% 62.9M/493M [00:06<00:38, 11.3MB/s]\u001b[32mINFO\u001b[0m:     127.0.0.1:34940 - \"\u001b[1mGET /state/ HTTP/1.1\u001b[0m\" \u001b[32m200 OK\u001b[0m\n",
            "Downloading (…)id-midas-501f0c75.pt:  19% 94.4M/493M [00:09<00:36, 11.0MB/s]\u001b[32mINFO\u001b[0m:     127.0.0.1:34944 - \"\u001b[1mGET /state/ HTTP/1.1\u001b[0m\" \u001b[32m200 OK\u001b[0m\n",
            "Downloading (…)id-midas-501f0c75.pt:  26% 126M/493M [00:11<00:31, 11.7MB/s]\u001b[32mINFO\u001b[0m:     127.0.0.1:34960 - \"\u001b[1mGET /state/ HTTP/1.1\u001b[0m\" \u001b[32m200 OK\u001b[0m\n",
            "Downloading (…)id-midas-501f0c75.pt:  30% 147M/493M [00:13<00:32, 10.7MB/s]\u001b[32mINFO\u001b[0m:     127.0.0.1:44844 - \"\u001b[1mGET /state/ HTTP/1.1\u001b[0m\" \u001b[32m200 OK\u001b[0m\n",
            "Downloading (…)id-midas-501f0c75.pt:  36% 178M/493M [00:17<00:31, 9.93MB/s]\u001b[32mINFO\u001b[0m:     127.0.0.1:44860 - \"\u001b[1mGET /state/ HTTP/1.1\u001b[0m\" \u001b[32m200 OK\u001b[0m\n",
            "Downloading (…)id-midas-501f0c75.pt:  40% 199M/493M [00:19<00:29, 9.93MB/s]\u001b[32mINFO\u001b[0m:     127.0.0.1:44872 - \"\u001b[1mGET /state/ HTTP/1.1\u001b[0m\" \u001b[32m200 OK\u001b[0m\n",
            "Downloading (…)id-midas-501f0c75.pt:  45% 220M/493M [00:21<00:26, 10.3MB/s]\u001b[32mINFO\u001b[0m:     127.0.0.1:44878 - \"\u001b[1mGET /state/ HTTP/1.1\u001b[0m\" \u001b[32m200 OK\u001b[0m\n",
            "Downloading (…)id-midas-501f0c75.pt:  51% 252M/493M [00:24<00:23, 10.1MB/s]\u001b[32mINFO\u001b[0m:     127.0.0.1:49778 - \"\u001b[1mGET /state/ HTTP/1.1\u001b[0m\" \u001b[32m200 OK\u001b[0m\n",
            "Downloading (…)id-midas-501f0c75.pt:  57% 283M/493M [00:27<00:20, 10.4MB/s]\u001b[32mINFO\u001b[0m:     127.0.0.1:49788 - \"\u001b[1mGET /state/ HTTP/1.1\u001b[0m\" \u001b[32m200 OK\u001b[0m\n",
            "Downloading (…)id-midas-501f0c75.pt:  64% 315M/493M [00:30<00:16, 11.1MB/s]\u001b[32mINFO\u001b[0m:     127.0.0.1:49790 - \"\u001b[1mGET /state/ HTTP/1.1\u001b[0m\" \u001b[32m200 OK\u001b[0m\n",
            "Downloading (…)id-midas-501f0c75.pt:  70% 346M/493M [00:32<00:11, 12.7MB/s]\u001b[32mINFO\u001b[0m:     127.0.0.1:44150 - \"\u001b[1mGET /state/ HTTP/1.1\u001b[0m\" \u001b[32m200 OK\u001b[0m\n",
            "Downloading (…)id-midas-501f0c75.pt:  74% 367M/493M [00:34<00:10, 11.8MB/s]\u001b[32mINFO\u001b[0m:     127.0.0.1:44164 - \"\u001b[1mGET /state/ HTTP/1.1\u001b[0m\" \u001b[32m200 OK\u001b[0m\n",
            "Downloading (…)id-midas-501f0c75.pt:  79% 388M/493M [00:37<00:11, 9.11MB/s]\u001b[32mINFO\u001b[0m:     127.0.0.1:44178 - \"\u001b[1mGET /state/ HTTP/1.1\u001b[0m\" \u001b[32m200 OK\u001b[0m\n",
            "Downloading (…)id-midas-501f0c75.pt:  83% 409M/493M [00:40<00:10, 7.75MB/s]\u001b[32mINFO\u001b[0m:     127.0.0.1:44184 - \"\u001b[1mGET /state/ HTTP/1.1\u001b[0m\" \u001b[32m200 OK\u001b[0m\n",
            "Downloading (…)id-midas-501f0c75.pt:  85% 419M/493M [00:41<00:09, 7.54MB/s]\u001b[32mINFO\u001b[0m:     127.0.0.1:41840 - \"\u001b[1mGET /state/ HTTP/1.1\u001b[0m\" \u001b[32m200 OK\u001b[0m\n",
            "Downloading (…)id-midas-501f0c75.pt:  89% 440M/493M [00:44<00:07, 7.43MB/s]\u001b[32mINFO\u001b[0m:     127.0.0.1:41856 - \"\u001b[1mGET /state/ HTTP/1.1\u001b[0m\" \u001b[32m200 OK\u001b[0m\n",
            "Downloading (…)id-midas-501f0c75.pt:  94% 461M/493M [00:47<00:04, 6.92MB/s]\u001b[32mINFO\u001b[0m:     127.0.0.1:41862 - \"\u001b[1mGET /state/ HTTP/1.1\u001b[0m\" \u001b[32m200 OK\u001b[0m\n",
            "Downloading (…)id-midas-501f0c75.pt:  96% 472M/493M [00:49<00:03, 6.66MB/s]\u001b[32mINFO\u001b[0m:     127.0.0.1:41872 - \"\u001b[1mGET /state/ HTTP/1.1\u001b[0m\" \u001b[32m200 OK\u001b[0m\n",
            "Downloading (…)id-midas-501f0c75.pt: 100% 493M/493M [00:52<00:00, 9.36MB/s]\n",
            "\u001b[32mINFO\u001b[0m:     127.0.0.1:49072 - \"\u001b[1mGET /state/ HTTP/1.1\u001b[0m\" \u001b[32m200 OK\u001b[0m\n",
            "\u001b[32mINFO\u001b[0m:     127.0.0.1:49076 - \"\u001b[1mGET /state/ HTTP/1.1\u001b[0m\" \u001b[32m200 OK\u001b[0m\n",
            "Downloading (…)rocessor_config.json: 100% 287/287 [00:00<00:00, 165kB/s]\n",
            "Downloading (…)okenizer_config.json: 100% 438/438 [00:00<00:00, 259kB/s]\n",
            "Downloading (…)solve/main/vocab.txt: 100% 232k/232k [00:00<00:00, 541kB/s]\n",
            "Downloading (…)/main/tokenizer.json:   0% 0.00/711k [00:00<?, ?B/s]\u001b[32mINFO\u001b[0m:     127.0.0.1:49086 - \"\u001b[1mGET /state/ HTTP/1.1\u001b[0m\" \u001b[32m200 OK\u001b[0m\n",
            "Downloading (…)/main/tokenizer.json: 100% 711k/711k [00:00<00:00, 839kB/s]\n",
            "Downloading (…)cial_tokens_map.json: 100% 125/125 [00:00<00:00, 72.4kB/s]\n",
            "Downloading (…)lve/main/config.json: 100% 4.56k/4.56k [00:00<00:00, 2.52MB/s]\n",
            "Downloading pytorch_model.bin:   6% 62.9M/990M [00:00<00:14, 65.1MB/s]\u001b[32mINFO\u001b[0m:     127.0.0.1:49096 - \"\u001b[1mGET /state/ HTTP/1.1\u001b[0m\" \u001b[32m200 OK\u001b[0m\n",
            "Downloading pytorch_model.bin:  22% 220M/990M [00:03<00:10, 70.3MB/s]\u001b[32mINFO\u001b[0m:     127.0.0.1:38836 - \"\u001b[1mGET /state/ HTTP/1.1\u001b[0m\" \u001b[32m200 OK\u001b[0m\n",
            "Downloading pytorch_model.bin:  38% 377M/990M [00:05<00:09, 63.4MB/s]\u001b[32mINFO\u001b[0m:     127.0.0.1:38840 - \"\u001b[1mGET /state/ HTTP/1.1\u001b[0m\" \u001b[32m200 OK\u001b[0m\n",
            "Downloading pytorch_model.bin:  56% 556M/990M [00:08<00:06, 71.1MB/s]\u001b[32mINFO\u001b[0m:     127.0.0.1:38856 - \"\u001b[1mGET /state/ HTTP/1.1\u001b[0m\" \u001b[32m200 OK\u001b[0m\n",
            "Downloading pytorch_model.bin:  75% 744M/990M [00:11<00:04, 56.2MB/s]\u001b[32mINFO\u001b[0m:     127.0.0.1:38862 - \"\u001b[1mGET /state/ HTTP/1.1\u001b[0m\" \u001b[32m200 OK\u001b[0m\n",
            "Downloading pytorch_model.bin:  91% 902M/990M [00:13<00:01, 70.2MB/s]\u001b[32mINFO\u001b[0m:     127.0.0.1:48174 - \"\u001b[1mGET /state/ HTTP/1.1\u001b[0m\" \u001b[32m200 OK\u001b[0m\n",
            "Downloading pytorch_model.bin: 100% 990M/990M [00:15<00:00, 66.0MB/s]\n",
            "\u001b[32mINFO\u001b[0m:     127.0.0.1:48180 - \"\u001b[1mGET /state/ HTTP/1.1\u001b[0m\" \u001b[32m200 OK\u001b[0m\n",
            "\u001b[32mINFO\u001b[0m:     127.0.0.1:48186 - \"\u001b[1mGET /state/ HTTP/1.1\u001b[0m\" \u001b[32m200 OK\u001b[0m\n",
            "\u001b[32mINFO\u001b[0m:     127.0.0.1:45054 - \"\u001b[1mPOST /image_preprocessing/ HTTP/1.1\u001b[0m\" \u001b[32m200 OK\u001b[0m\n",
            "\u001b[32mINFO\u001b[0m:     127.0.0.1:45058 - \"\u001b[1mGET /state/ HTTP/1.1\u001b[0m\" \u001b[32m200 OK\u001b[0m\n",
            "\u001b[32mINFO\u001b[0m:     127.0.0.1:38962 - \"\u001b[1mGET /state/ HTTP/1.1\u001b[0m\" \u001b[32m200 OK\u001b[0m\n",
            "\u001b[32mINFO\u001b[0m:     127.0.0.1:38978 - \"\u001b[1mGET /state/ HTTP/1.1\u001b[0m\" \u001b[32m200 OK\u001b[0m\n",
            "\u001b[32mINFO\u001b[0m:     127.0.0.1:38980 - \"\u001b[1mGET /tmp/annotated_image.png HTTP/1.1\u001b[0m\" \u001b[32m200 OK\u001b[0m\n",
            "\u001b[32mINFO\u001b[0m:     127.0.0.1:41748 - \"\u001b[1mGET /tmp/annotated_image.png HTTP/1.1\u001b[0m\" \u001b[32m200 OK\u001b[0m\n",
            "### fastapi\n",
            "bulldog super hero cyberpunk\n",
            "monochrome, lowres, bad anatomy, worst quality, low quality\n",
            "\u001b[32mINFO\u001b[0m:     127.0.0.1:45608 - \"\u001b[1mPOST /image_generation/use_controlnet/ HTTP/1.1\u001b[0m\" \u001b[32m200 OK\u001b[0m\n",
            "###async\n",
            "bulldog super hero cyberpunk\n",
            "monochrome, lowres, bad anatomy, worst quality, low quality\n",
            "100% 25/25 [00:02<00:00,  8.65it/s]\n",
            "\u001b[32mINFO\u001b[0m:     127.0.0.1:45620 - \"\u001b[1mGET /state/ HTTP/1.1\u001b[0m\" \u001b[32m200 OK\u001b[0m\n",
            "\u001b[32mINFO\u001b[0m:     127.0.0.1:56340 - \"\u001b[1mGET /state/ HTTP/1.1\u001b[0m\" \u001b[32m200 OK\u001b[0m\n",
            "\u001b[32mINFO\u001b[0m:     127.0.0.1:56354 - \"\u001b[1mGET /tmp/sample_0.png HTTP/1.1\u001b[0m\" \u001b[32m200 OK\u001b[0m\n",
            "\u001b[32mINFO\u001b[0m:     127.0.0.1:56362 - \"\u001b[1mGET /tmp/sample_2.png HTTP/1.1\u001b[0m\" \u001b[32m200 OK\u001b[0m\n",
            "\u001b[32mINFO\u001b[0m:     127.0.0.1:56372 - \"\u001b[1mGET /tmp/sample_3.png HTTP/1.1\u001b[0m\" \u001b[32m200 OK\u001b[0m\n",
            "\u001b[32mINFO\u001b[0m:     127.0.0.1:56376 - \"\u001b[1mGET /tmp/sample_1.png HTTP/1.1\u001b[0m\" \u001b[32m200 OK\u001b[0m\n",
            "\u001b[32mINFO\u001b[0m:     127.0.0.1:46966 - \"\u001b[1mPOST /text_generation/ HTTP/1.1\u001b[0m\" \u001b[32m200 OK\u001b[0m\n",
            "\u001b[32mINFO\u001b[0m:     127.0.0.1:46970 - \"\u001b[1mGET /state/ HTTP/1.1\u001b[0m\" \u001b[32m200 OK\u001b[0m\n",
            "\u001b[32mINFO\u001b[0m:     127.0.0.1:46984 - \"\u001b[1mGET /state/ HTTP/1.1\u001b[0m\" \u001b[32m200 OK\u001b[0m\n",
            "\u001b[32mINFO\u001b[0m:     127.0.0.1:32942 - \"\u001b[1mGET /state/ HTTP/1.1\u001b[0m\" \u001b[32m200 OK\u001b[0m\n",
            "\u001b[32mINFO\u001b[0m:     127.0.0.1:32946 - \"\u001b[1mGET /state/ HTTP/1.1\u001b[0m\" \u001b[32m200 OK\u001b[0m\n",
            "\u001b[32mINFO\u001b[0m:     127.0.0.1:32950 - \"\u001b[1mGET /state/ HTTP/1.1\u001b[0m\" \u001b[32m200 OK\u001b[0m\n",
            "\u001b[32mINFO\u001b[0m:     127.0.0.1:32952 - \"\u001b[1mGET /state/ HTTP/1.1\u001b[0m\" \u001b[32m200 OK\u001b[0m\n",
            "\u001b[32mINFO\u001b[0m:     127.0.0.1:33366 - \"\u001b[1mGET /state/ HTTP/1.1\u001b[0m\" \u001b[32m200 OK\u001b[0m\n",
            "\u001b[32mINFO\u001b[0m:     127.0.0.1:33376 - \"\u001b[1mGET /state/ HTTP/1.1\u001b[0m\" \u001b[32m200 OK\u001b[0m\n",
            "\u001b[32mINFO\u001b[0m:     127.0.0.1:33390 - \"\u001b[1mGET /state/ HTTP/1.1\u001b[0m\" \u001b[32m200 OK\u001b[0m\n",
            "\u001b[32mINFO\u001b[0m:     127.0.0.1:41118 - \"\u001b[1mGET /state/ HTTP/1.1\u001b[0m\" \u001b[32m200 OK\u001b[0m\n",
            "\u001b[32mINFO\u001b[0m:     127.0.0.1:41132 - \"\u001b[1mGET /state/ HTTP/1.1\u001b[0m\" \u001b[32m200 OK\u001b[0m\n",
            "Georgetown University is a private research university located in the historic Georgetown neighborhood of Washington, D.C. It was founded in 1789 and is known for its strong emphasis on academics, social justice, and global engagement. The campus is spread across 104 acres and includes a mix of historic and modern buildings. Georgetown offers undergraduate, graduate, and professional degree programs across a variety of disciplines, including business, law, medicine, foreign service, and public policy. It is widely recognized for its international relations program and has a diverse student body with students from all over the world. The university is also home to numerous research centers, institutes, and programs, and has a strong commitment to service and community engagement.\n",
            "#GeorgetownUniversity #ResearchUniversity #WashingtonDC #Academics #SocialJustice #GlobalEngagement #CampusLife #GraduateSchool #ProfessionalDegree #InternationalRelations #Diversity #ResearchCenters #Service #CommunityEngagement\n",
            "\u001b[32mINFO\u001b[0m:     127.0.0.1:41136 - \"\u001b[1mGET /state/ HTTP/1.1\u001b[0m\" \u001b[32m200 OK\u001b[0m\n",
            "\u001b[32mINFO\u001b[0m:     127.0.0.1:41138 - \"\u001b[1mGET /text_generation/result HTTP/1.1\u001b[0m\" \u001b[32m200 OK\u001b[0m\n",
            "\u001b[32mINFO\u001b[0m:     Shutting down\n",
            "\u001b[32mINFO\u001b[0m:     Waiting for application shutdown.\n",
            "\u001b[32mINFO\u001b[0m:     Application shutdown complete.\n",
            "\u001b[32mINFO\u001b[0m:     Finished server process [\u001b[36m7902\u001b[0m]\n",
            "\u001b[32mINFO\u001b[0m:     Stopping reloader process [\u001b[36m\u001b[1m7900\u001b[0m]\n"
          ]
        }
      ]
    },
    {
      "cell_type": "code",
      "source": [
        "# !kill -9 $(lsof -t -i)"
      ],
      "metadata": {
        "id": "yij7E5vA_9fY"
      },
      "execution_count": null,
      "outputs": []
    },
    {
      "cell_type": "code",
      "source": [],
      "metadata": {
        "id": "x6TsIumQediK"
      },
      "execution_count": null,
      "outputs": []
    }
  ]
}